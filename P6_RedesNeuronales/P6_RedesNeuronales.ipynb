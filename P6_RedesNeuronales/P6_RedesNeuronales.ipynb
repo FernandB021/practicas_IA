{
 "cells": [
  {
   "cell_type": "markdown",
   "metadata": {},
   "source": [
    "# Práctica 6: Redes Neuronales"
   ]
  },
  {
   "cell_type": "markdown",
   "metadata": {},
   "source": [
    "**Ingeniería Electrónica**\n",
    "\n",
    "**Inteligencia Artificial**\n",
    "\n",
    "**04/06/2021**"
   ]
  },
  {
   "cell_type": "markdown",
   "metadata": {},
   "source": [
    "El objetivo de esta práctica es proporcionar soluciones a problemas de implementación comunes para las redes neuronales de alimentación directa (FNN, comúnmente) y otras topologías de red.\n",
    "\n",
    "Las FNN son redes en las que la información solo se mueve en una dirección y no hay retroalimentación (a diferencia de las Redes neuronales recurrentes). Las FNN se utilizan principalmente para el aprendizaje supervisado donde los datos no son secuenciales o dependientes del tiempo, por ejemplo, para tareas generales de clasificación y regresión."
   ]
  },
  {
   "cell_type": "markdown",
   "metadata": {},
   "source": [
    "## El perceptrón\n",
    "\n",
    "Una red neuronal consiste en una o múltiples capas de neuronas, llamadas así por las neuronas biológicas en los cerebros humanos. Vamos a demostrar la mecánica de una sola neurona mediante la implementación de un perceptrón. En un perceptrón, una sola unidad (neurona) realiza todos los cálculos."
   ]
  },
  {
   "cell_type": "markdown",
   "metadata": {},
   "source": [
    "<img src=\"perceptron.png\">"
   ]
  },
  {
   "cell_type": "markdown",
   "metadata": {},
   "source": [
    "Usaremos la base de datos de Iris:"
   ]
  },
  {
   "cell_type": "code",
   "execution_count": null,
   "metadata": {},
   "outputs": [],
   "source": [
    "import numpy as np\n",
    "from sklearn.model_selection import train_test_split\n",
    "import matplotlib.pyplot as plt\n",
    "from sklearn.datasets import load_iris"
   ]
  },
  {
   "cell_type": "markdown",
   "metadata": {},
   "source": [
    "Primero, separamos en subconjuntos los datos importados:"
   ]
  },
  {
   "cell_type": "code",
   "execution_count": null,
   "metadata": {},
   "outputs": [],
   "source": [
    "# Las dos primeras clases (Iris-Setosa e Iris-Versicolor) son linealmente separables\n",
    "iris = load_iris()\n",
    "idxs = np.where(iris.target<2)\n",
    "X = iris.data[idxs]\n",
    "y = iris.target[idxs]"
   ]
  },
  {
   "cell_type": "markdown",
   "metadata": {},
   "source": [
    "Grafiquemos los datos para dos de las cuatro variables:"
   ]
  },
  {
   "cell_type": "code",
   "execution_count": null,
   "metadata": {},
   "outputs": [],
   "source": [
    "plt.scatter(X[y==0][:,0],X[y==0][:,2], color='green', label='IrisSetosa')\n",
    "plt.scatter(X[y==1][:,0],X[y==1][:,2], color='red', label='IrisVersicolor')\n",
    "plt.title('Base de datos Iris de plantas')\n",
    "plt.xlabel('longitud del sépalo en cm')\n",
    "plt.ylabel('ancho del sépalo en cm')\n",
    "plt.legend()\n",
    "plt.show()"
   ]
  },
  {
   "cell_type": "markdown",
   "metadata": {},
   "source": [
    "En el gráfico anterior, hemos trazado la distribución de las dos clases. Para validar nuestros resultados, dividimos los datos en conjuntos de entrenamiento y validación (o prueba) de la siguiente manera:"
   ]
  },
  {
   "cell_type": "code",
   "execution_count": null,
   "metadata": {},
   "outputs": [],
   "source": [
    "X_train, X_val, y_train, y_val = train_test_split(X, y, test_size=0.2, random_state=17)"
   ]
  },
  {
   "cell_type": "markdown",
   "metadata": {},
   "source": [
    "A continuación, inicializamos los pesos (*weights*) y sesgos (*bias*) para el perceptrón:"
   ]
  },
  {
   "cell_type": "code",
   "execution_count": null,
   "metadata": {},
   "outputs": [],
   "source": [
    "weights = np.random.normal(size=X_train.shape[1])\n",
    "bias = 1"
   ]
  },
  {
   "cell_type": "markdown",
   "metadata": {},
   "source": [
    "Antes de entrenar, necesitamos definir los hiperparámetros:"
   ]
  },
  {
   "cell_type": "code",
   "execution_count": null,
   "metadata": {},
   "outputs": [],
   "source": [
    "learning_rate = 0.1\n",
    "n_epochs = 15"
   ]
  },
  {
   "cell_type": "markdown",
   "metadata": {},
   "source": [
    "Ahora, podemos comenzar a entrenar nuestro perceptrón con un bucle for:"
   ]
  },
  {
   "cell_type": "code",
   "execution_count": null,
   "metadata": {},
   "outputs": [],
   "source": [
    "del_w = np.zeros(weights.shape)\n",
    "hist_loss = []\n",
    "hist_accuracy = []\n",
    "for i in range(n_epochs):\n",
    "    # Aplicamos una función de paso simple (escalón unitario), si la salida es> 0.5 predecimos 1, de lo contrario 0\n",
    "    output = np.where((X_train.dot(weights)+bias)>0.5, 1, 0)\n",
    "    # Calcular MSE\n",
    "    error = np.mean((y_train-output)**2)\n",
    "    # Actualizar pesos y bias\n",
    "    weights-= learning_rate * np.dot((output-y_train), X_train)\n",
    "    bias += learning_rate * np.sum(np.dot((output-y_train), X_train))\n",
    "    # Calcular MSE\n",
    "    loss = np.mean((output - y_train) ** 2)\n",
    "    hist_loss.append(loss)\n",
    "    # Determinar la exactitud de validación\n",
    "    output_val = np.where(X_val.dot(weights)>0.5, 1, 0)\n",
    "    accuracy = np.mean(np.where(y_val==output_val, 1, 0))\n",
    "    hist_accuracy.append(accuracy)"
   ]
  },
  {
   "cell_type": "markdown",
   "metadata": {},
   "source": [
    "Hemos guardado la pérdida en entrenamiento y la exactitud de validación para poder trazarlas:"
   ]
  },
  {
   "cell_type": "code",
   "execution_count": null,
   "metadata": {},
   "outputs": [],
   "source": [
    "fig = plt.figure(figsize=(8, 4))\n",
    "a = fig.add_subplot(1,2,1)\n",
    "imgplot = plt.plot(hist_loss)\n",
    "plt.xlabel('epochs')\n",
    "a.set_title('Pérdida en entrenamiento')\n",
    "a=fig.add_subplot(1,2,2)\n",
    "imgplot = plt.plot(hist_accuracy)\n",
    "plt.xlabel('epochs')\n",
    "a.set_title('Exactitud de validación')\n",
    "plt.show()"
   ]
  },
  {
   "cell_type": "markdown",
   "metadata": {},
   "source": [
    "## Implementación de una red neuronal de capa única\n",
    "\n",
    "Ahora podemos pasar a las **redes neuronales**. Comenzaremos implementando la forma más simple de una red neuronal: una red neuronal de capa única. La diferencia con un perceptrón es que los cálculos se realizan por múltiples unidades (neuronas), por lo tanto, una red. \n",
    "\n",
    "Como es de esperar, agregar más unidades aumentará la cantidad de problemas que se pueden resolver. Las unidades realizan sus cálculos por separado y se apilan en una capa; llamamos a esta capa la **capa oculta**. Por lo tanto, llamamos a las unidades apiladas en esta capa las **unidades ocultas** (o neuronas ocultas). Por ahora, solo consideraremos una sola capa oculta. La capa de salida funciona como un perceptrón. Esta vez, como entrada tenemos las unidades ocultas en la capa oculta en lugar de las variables de entrada:"
   ]
  },
  {
   "cell_type": "markdown",
   "metadata": {},
   "source": [
    "<img src=\"capa_unica.png\">"
   ]
  },
  {
   "cell_type": "markdown",
   "metadata": {},
   "source": [
    "En nuestra implementación del perceptrón, hemos utilizado una función de escalón unitario para determinar la clase. En la siguiente implementación, utilizaremos una función de activación no lineal sigmoide para las unidades ocultas y para la función de salida. Al reemplazar la función de paso o escalón con una función de activación no lineal, la red también podrá descubrir patrones no lineales. En el paso hacia atrás, usamos la derivada del sigmoide para actualizar los pesos.\n",
    "\n",
    "En el código siguiente, clasificaremos dos clases no separables linealmente con NumPy."
   ]
  },
  {
   "cell_type": "code",
   "execution_count": null,
   "metadata": {},
   "outputs": [],
   "source": [
    "# Importar librerías y conjunto de datos:\n",
    "import numpy as np\n",
    "from sklearn.model_selection import train_test_split\n",
    "import matplotlib.pyplot as plt\n",
    "\n",
    "# Usaremos make_circles de scikit-learn\n",
    "from sklearn.datasets import make_circles"
   ]
  },
  {
   "cell_type": "markdown",
   "metadata": {},
   "source": [
    "Primero, necesitamos crear los datos de entrenamiento:"
   ]
  },
  {
   "cell_type": "code",
   "execution_count": null,
   "metadata": {},
   "outputs": [],
   "source": [
    "# Creamos un círculo interno y externo\n",
    "X, y = make_circles(n_samples=400, factor=.3, noise=.05, random_state=2021)\n",
    "outer = y == 0\n",
    "inner = y == 1\n",
    "\n",
    "# Normalizamos los datos para asegurarnos de que el centro de ambos círculos es (1,1):\n",
    "X = X+1"
   ]
  },
  {
   "cell_type": "markdown",
   "metadata": {},
   "source": [
    "Grafiquemos los datos para mostrar las dos clases:"
   ]
  },
  {
   "cell_type": "code",
   "execution_count": null,
   "metadata": {},
   "outputs": [],
   "source": [
    "plt.title(\"Dos Círculos\")\n",
    "plt.plot(X[outer, 0], X[outer, 1], \"ro\")\n",
    "plt.plot(X[inner, 0], X[inner, 1], \"bo\")\n",
    "plt.show()"
   ]
  },
  {
   "cell_type": "markdown",
   "metadata": {},
   "source": [
    "Para determinar el rendimiento de nuestro algoritmo, dividimos nuestros datos:"
   ]
  },
  {
   "cell_type": "code",
   "execution_count": null,
   "metadata": {},
   "outputs": [],
   "source": [
    "X_train, X_val, y_train, y_val = train_test_split(X, y, test_size=0.2, random_state=2021)"
   ]
  },
  {
   "cell_type": "markdown",
   "metadata": {},
   "source": [
    "Una función de activación lineal no funcionará en este caso, por lo que utilizaremos una función sigmoide:"
   ]
  },
  {
   "cell_type": "code",
   "execution_count": null,
   "metadata": {},
   "outputs": [],
   "source": [
    "def sigmoid(x):\n",
    "    return 1 / (1 + np.exp(-x))"
   ]
  },
  {
   "cell_type": "markdown",
   "metadata": {},
   "source": [
    "A continuación, definimos los hiperparámetros:"
   ]
  },
  {
   "cell_type": "code",
   "execution_count": null,
   "metadata": {},
   "outputs": [],
   "source": [
    "n_hidden = 50 # número de unidades ocultas\n",
    "n_epochs = 1000\n",
    "learning_rate = 1"
   ]
  },
  {
   "cell_type": "markdown",
   "metadata": {},
   "source": [
    "Inicializamos los pesos y otras variables:"
   ]
  },
  {
   "cell_type": "code",
   "execution_count": null,
   "metadata": {},
   "outputs": [],
   "source": [
    "weights_hidden = np.random.normal(0.0, size=(X_train.shape[1], n_hidden))\n",
    "weights_output = np.random.normal(0.0, size=(n_hidden))\n",
    "hist_loss = []\n",
    "hist_accuracy = []"
   ]
  },
  {
   "cell_type": "markdown",
   "metadata": {},
   "source": [
    "Ejecutamos la red neuronal de capa única e imprimimos las estadísticas:"
   ]
  },
  {
   "cell_type": "code",
   "execution_count": null,
   "metadata": {},
   "outputs": [],
   "source": [
    "for e in range(n_epochs):\n",
    "    del_w_hidden = np.zeros(weights_hidden.shape)\n",
    "    del_w_output = np.zeros(weights_output.shape)\n",
    "\n",
    "    # Recorrer los datos de entrenamiento en lotes de 1\n",
    "    for x_, y_ in zip(X_train, y_train):\n",
    "        # Cálculos hacia adelante\n",
    "        hidden_input = np.dot(x_, weights_hidden)\n",
    "        hidden_output = sigmoid(hidden_input)\n",
    "        output = sigmoid(np.dot(hidden_output, weights_output))\n",
    "        # Cálculos hacia atrás\n",
    "        error = y_ - output\n",
    "        output_error = error * output * (1 - output)\n",
    "        hidden_error = np.dot(output_error, weights_output) * hidden_output * (1 - hidden_output)\n",
    "        del_w_output += output_error * hidden_output\n",
    "        del_w_hidden += hidden_error * x_[:, None]\n",
    "        \n",
    "    # Actualizar pesos\n",
    "    weights_hidden += learning_rate * del_w_hidden / X_train.shape[0]\n",
    "    weights_output += learning_rate * del_w_output / X_train.shape[0]\n",
    "    \n",
    "    # Imprimir estadísticas (pérdida y exactitud de validación)\n",
    "    if e % 100 == 0:\n",
    "        hidden_output = sigmoid(np.dot(X_val, weights_hidden))\n",
    "        out = sigmoid(np.dot(hidden_output, weights_output))\n",
    "        loss = np.mean((out - y_val) ** 2)\n",
    "    \n",
    "        # La predicción final se basa en un umbral de 0.5\n",
    "        predictions = out > 0.5\n",
    "        accuracy = np.mean(predictions == y_val)\n",
    "        print(\"Epoch: \", '{:>4}'.format(e), \"; Pérdida de validación: \", '{:>6}'.format(loss.round(4)),\n",
    "              \"; Exactitud de validación: \", '{:>6}'.format(accuracy.round(4)))\n"
   ]
  },
  {
   "cell_type": "markdown",
   "metadata": {},
   "source": [
    "## Construyendo una red neuronal multicapa\n",
    "\n",
    "Lo que hemos creado en código anterior es en realidad la forma más simple de una ANN: una red neuronal donde la información fluye solo en una dirección. Para nuestra próxima receta, ampliaremos el número de capas ocultas de una a varias capas. Agregar capas adicionales aumenta el poder de una red para aprender patrones no lineales complejos."
   ]
  },
  {
   "cell_type": "markdown",
   "metadata": {},
   "source": [
    "<img src=\"multicapa.png\">"
   ]
  },
  {
   "cell_type": "markdown",
   "metadata": {},
   "source": [
    "Al agregar una capa adicional, el número de conexiones (pesos), también llamados parámetros entrenables, aumenta exponencialmente. En la siguiente implemetación, crearemos una red con dos capas ocultas para predecir la **calidad de vino** con datos de vinos tintos descargado de https://archive.ics.uci.edu/ml/machine-learning-databases/wine-quality/. Sin embargo, el archivo CSV ya se incluye en la carpeta de la práctica. \n",
    "\n",
    "Esta es una **tarea de regresión**, por lo que utilizaremos una activación lineal para la capa de salida. Para las capas ocultas, utilizamos las funciones de activación de **ReLU**. Esta receta utiliza el framework de **Keras** para implementar la FNN.\n",
    "\n",
    "**Nota:** Se requiere [TensorFlow](https://www.tensorflow.org/install) y [Keras](https://keras.io/)"
   ]
  },
  {
   "cell_type": "code",
   "execution_count": null,
   "metadata": {},
   "outputs": [],
   "source": [
    "# Importar librerías\n",
    "import numpy as np\n",
    "import pandas as pd\n",
    "from sklearn.model_selection import train_test_split\n",
    "from sklearn.preprocessing import StandardScaler\n",
    "\n",
    "# pip install tensorflow==2.1\n",
    "# pip install Keras\n",
    "from keras.models import Sequential\n",
    "from keras.layers import Dense\n",
    "from keras.callbacks import EarlyStopping, ModelCheckpoint\n",
    "from keras.optimizers import Adam"
   ]
  },
  {
   "cell_type": "markdown",
   "metadata": {},
   "source": [
    "Cargar conjunto de datos:"
   ]
  },
  {
   "cell_type": "code",
   "execution_count": null,
   "metadata": {},
   "outputs": [],
   "source": [
    "data = pd.read_csv('winequality-red.csv', sep=';')\n",
    "y = data['quality']\n",
    "X = data.drop(['quality'], axis=1)"
   ]
  },
  {
   "cell_type": "markdown",
   "metadata": {},
   "source": [
    "Separar datos para entrenamiento y prueba:"
   ]
  },
  {
   "cell_type": "code",
   "execution_count": null,
   "metadata": {},
   "outputs": [],
   "source": [
    "X_train, X_test, y_train, y_test = train_test_split(X, y, test_size=0.2, random_state=17)"
   ]
  },
  {
   "cell_type": "markdown",
   "metadata": {},
   "source": [
    "Imprimimos la calidad promedio y las primeras filas del conjunto de entrenamiento:"
   ]
  },
  {
   "cell_type": "code",
   "execution_count": null,
   "metadata": {},
   "outputs": [],
   "source": [
    "print('Calidad promedio del conjunto de entrenamiento: {:.4f}'.format(y_train.mean()))\n",
    "X_train.head()"
   ]
  },
  {
   "cell_type": "markdown",
   "metadata": {},
   "source": [
    "El siguiente paso importante es normalizar los datos de entrada:"
   ]
  },
  {
   "cell_type": "code",
   "execution_count": null,
   "metadata": {},
   "outputs": [],
   "source": [
    "scaler = StandardScaler().fit(X_train)\n",
    "X_train = pd.DataFrame(scaler.transform(X_train))\n",
    "X_test = pd.DataFrame(scaler.transform(X_test))"
   ]
  },
  {
   "cell_type": "markdown",
   "metadata": {},
   "source": [
    "Ahora, construyamos nuestra red neuronal definiendo la arquitectura de red:"
   ]
  },
  {
   "cell_type": "code",
   "execution_count": null,
   "metadata": {},
   "outputs": [],
   "source": [
    "model = Sequential()\n",
    "# Primera capa oculta con 200 unidades ocultas\n",
    "model.add(Dense(200, input_dim=X_train.shape[1],\n",
    "activation='relu'))\n",
    "# Segunda capa oculta con 25 unidades ocultas\n",
    "model.add(Dense(25, activation='relu'))\n",
    "# Capa de salida\n",
    "model.add(Dense(1, activation='linear'))\n",
    "# Establecer optimizador\n",
    "opt = Adam()\n",
    "# Compilar modelo\n",
    "model.compile(loss='mse', optimizer=opt, metrics=['accuracy'])"
   ]
  },
  {
   "cell_type": "markdown",
   "metadata": {},
   "source": [
    "Definamos la retrollamada para detener y guardar el mejor modelo:"
   ]
  },
  {
   "cell_type": "code",
   "execution_count": null,
   "metadata": {},
   "outputs": [],
   "source": [
    "callbacks = [\n",
    "EarlyStopping(monitor='val_accuracy', patience=20, verbose=2),\n",
    "ModelCheckpoint('checkpoints/multi_capa_mejor_modelo.h5',\n",
    "monitor='val_accuracy', save_best_only=True, verbose=0)\n",
    "]"
   ]
  },
  {
   "cell_type": "markdown",
   "metadata": {},
   "source": [
    "Ejecutamos el modelo con un tamaño de lote de 64, 5000 épocas y una división de validación del 20%:"
   ]
  },
  {
   "cell_type": "code",
   "execution_count": null,
   "metadata": {},
   "outputs": [],
   "source": [
    "batch_size = 64\n",
    "n_epochs = 1000\n",
    "model.fit(X_train.values, y_train, batch_size=batch_size, epochs=n_epochs, validation_split=0.2, verbose=2,\n",
    "callbacks=callbacks)"
   ]
  },
  {
   "cell_type": "markdown",
   "metadata": {},
   "source": [
    "Ahora podemos imprimir el rendimiento en el conjunto de prueba después de cargar los pesos óptimos:"
   ]
  },
  {
   "cell_type": "code",
   "execution_count": null,
   "metadata": {},
   "outputs": [],
   "source": [
    "best_model = model\n",
    "best_model.load_weights('checkpoints/multi_capa_mejor_modelo.h5')\n",
    "best_model.compile(loss='mse', optimizer='adam' ,metrics=['accuracy'])\n",
    "# Evaluar en conjunto de prueba\n",
    "score_test = best_model.evaluate(X_test.values, y_test, verbose=0)\n",
    "score_train = best_model.evaluate(X_train.values, y_train, verbose=0)\n",
    "print('Exactitud en prueba: %.2f%%' % (score_test[1]*100))\n",
    "print('Exactitud en entrenamiento: %.2f%%' % (score_train[1]*100))\n"
   ]
  },
  {
   "cell_type": "markdown",
   "metadata": {},
   "source": [
    "## Comparando funciones de activación\n",
    "\n",
    "Si solo utilizamos funciones de activación lineal, una red neuronal representaría una gran colección de combinaciones lineales. Sin embargo, el poder de las redes neuronales radica en su capacidad para modelar comportamientos no lineales complejos. Introdujimos brevemente las funciones de activación **no lineal sigmoide y ReLU** en las implementaciones anteriores, y hay muchas funciones de activación no lineales más populares, como **ELU**, **Leaky ReLU**, **TanH** y **Maxout**. \n",
    "\n",
    "No existe una regla general sobre qué activación funciona mejor para las unidades ocultas. Deep Learning es un campo en investigacion y la mayoría de los resultados se obtienen por prueba y error.\n",
    "\n",
    "En la siguiente implementación, compararemos la diferencia en los resultados entre una función de activación sigmoide y ReLU al clasificar los dígitos escritos a mano con una FNN profunda. El conjunto de datos se extrae desde Keras y corresponde a la base de datos MNIST (*Modified National Institute of Standards and Technology database*) de dígitos escritos a mano, accesible también en: http://yann.lecun.com/exdb/mnist/"
   ]
  },
  {
   "cell_type": "code",
   "execution_count": null,
   "metadata": {},
   "outputs": [],
   "source": [
    "# Importar librerías y conjunto de datos:\n",
    "import numpy as np\n",
    "import pandas as pd\n",
    "from sklearn.model_selection import train_test_split\n",
    "import matplotlib.pyplot as plt\n",
    "\n",
    "from keras.models import Sequential\n",
    "from keras.layers import Dense\n",
    "from keras.utils.np_utils import to_categorical\n",
    "from keras.callbacks import Callback\n",
    "\n",
    "from keras.datasets import mnist"
   ]
  },
  {
   "cell_type": "markdown",
   "metadata": {},
   "source": [
    "Cargar el conjunto de datos MNIST:"
   ]
  },
  {
   "cell_type": "code",
   "execution_count": null,
   "metadata": {},
   "outputs": [],
   "source": [
    "(X_train, y_train), (X_val, y_val) = mnist.load_data()"
   ]
  },
  {
   "cell_type": "markdown",
   "metadata": {},
   "source": [
    "Mostrar un ejemplo de cada etiqueta e imprimir el conteo por etiqueta:"
   ]
  },
  {
   "cell_type": "code",
   "execution_count": null,
   "metadata": {},
   "outputs": [],
   "source": [
    "# Graficar la primera imagen de cada etiqueta\n",
    "unique_labels = set(y_train)\n",
    "plt.figure(figsize=(12, 12))\n",
    "i = 1\n",
    "for label in unique_labels:\n",
    "    image = X_train[y_train.tolist().index(label)]\n",
    "    plt.subplot(10, 10, i)\n",
    "    plt.axis('off')\n",
    "    plt.title(\"{0}: ({1})\".format(label,\n",
    "    y_train.tolist().count(label)))\n",
    "    i += 1\n",
    "    _ = plt.imshow(image, cmap='gray')\n",
    "plt.show()"
   ]
  },
  {
   "cell_type": "markdown",
   "metadata": {},
   "source": [
    "Preprocesar los datos:"
   ]
  },
  {
   "cell_type": "code",
   "execution_count": null,
   "metadata": {},
   "outputs": [],
   "source": [
    "# Normalizar datos\n",
    "X_train = X_train.astype('float32')/255.\n",
    "X_val = X_val.astype('float32')/255.\n",
    "\n",
    "y_train = to_categorical(y_train, 10)\n",
    "y_val = to_categorical(y_val, 10)\n",
    "# Acoplar datos: tratamos la imagen como una matriz secuencial de valores\n",
    "X_train = np.reshape(X_train, (60000, 784))\n",
    "X_val = np.reshape(X_val, (10000, 784))"
   ]
  },
  {
   "cell_type": "markdown",
   "metadata": {},
   "source": [
    "Definir el modelo con la función de activación **sigmoide**:"
   ]
  },
  {
   "cell_type": "code",
   "execution_count": null,
   "metadata": {},
   "outputs": [],
   "source": [
    "model_sigmoid = Sequential()\n",
    "model_sigmoid.add(Dense(700, input_dim=784, activation='sigmoid'))\n",
    "model_sigmoid.add(Dense(700, activation='sigmoid'))\n",
    "model_sigmoid.add(Dense(700, activation='sigmoid'))\n",
    "model_sigmoid.add(Dense(700, activation='sigmoid'))\n",
    "model_sigmoid.add(Dense(700, activation='sigmoid'))\n",
    "model_sigmoid.add(Dense(350, activation='sigmoid'))\n",
    "model_sigmoid.add(Dense(100, activation='sigmoid'))\n",
    "model_sigmoid.add(Dense(10, activation='softmax'))\n",
    "\n",
    "# Compilar modelo con SGD\n",
    "model_sigmoid.compile(loss='categorical_crossentropy',\n",
    "optimizer='sgd', metrics=['accuracy'])"
   ]
  },
  {
   "cell_type": "markdown",
   "metadata": {},
   "source": [
    "Definir el modelo con la función de activación **ReLU**:"
   ]
  },
  {
   "cell_type": "code",
   "execution_count": null,
   "metadata": {},
   "outputs": [],
   "source": [
    "model_relu = Sequential()\n",
    "model_relu.add(Dense(700, input_dim=784, activation='relu'))\n",
    "model_relu.add(Dense(700, activation='relu'))\n",
    "model_relu.add(Dense(700, activation='relu'))\n",
    "model_relu.add(Dense(700, activation='relu'))\n",
    "model_relu.add(Dense(700, activation='relu'))\n",
    "model_relu.add(Dense(350, activation='relu'))\n",
    "model_relu.add(Dense(100, activation='relu'))\n",
    "model_relu.add(Dense(10, activation='softmax'))\n",
    "\n",
    "# Compilar modelo con SGD\n",
    "model_relu.compile(loss='categorical_crossentropy',\n",
    "optimizer='sgd', metrics=['accuracy'])"
   ]
  },
  {
   "cell_type": "markdown",
   "metadata": {},
   "source": [
    "Crear una función de retrollamada para almacenar los valores de pérdida por lote:"
   ]
  },
  {
   "cell_type": "code",
   "execution_count": null,
   "metadata": {},
   "outputs": [],
   "source": [
    "class history_loss(Callback):\n",
    "    def on_train_begin(self, logs={}):\n",
    "        self.losses = []\n",
    "\n",
    "    def on_batch_end(self, batch, logs={}):\n",
    "        batch_loss = logs.get('loss')\n",
    "        self.losses.append(batch_loss)"
   ]
  },
  {
   "cell_type": "markdown",
   "metadata": {},
   "source": [
    "Ejecutar modelos:"
   ]
  },
  {
   "cell_type": "code",
   "execution_count": null,
   "metadata": {},
   "outputs": [],
   "source": [
    "n_epochs = 10\n",
    "batch_size = 256\n",
    "validation_split = 0.2\n",
    "\n",
    "history_sigmoid = history_loss()\n",
    "model_sigmoid.fit(X_train, y_train,\n",
    "                  epochs=n_epochs, batch_size=batch_size,\n",
    "                  callbacks=[history_sigmoid], validation_split=validation_split, verbose=2)\n",
    "\n",
    "history_relu = history_loss()\n",
    "model_relu.fit(X_train, y_train,\n",
    "               epochs=n_epochs, batch_size=batch_size, \n",
    "               callbacks=[history_relu], validation_split=validation_split, verbose=2)"
   ]
  },
  {
   "cell_type": "markdown",
   "metadata": {},
   "source": [
    "Graficar pérdidas:"
   ]
  },
  {
   "cell_type": "code",
   "execution_count": null,
   "metadata": {},
   "outputs": [],
   "source": [
    "plt.plot(np.arange(len(history_sigmoid.losses)), history_sigmoid.losses, label='sigmoid')\n",
    "plt.plot(np.arange(len(history_relu.losses)), history_relu.losses, label='relu')\n",
    "plt.title('Pérdidas')\n",
    "plt.xlabel('Número de lotes')\n",
    "plt.ylabel('pérdida')\n",
    "plt.legend(loc=1)\n",
    "plt.show()"
   ]
  },
  {
   "cell_type": "markdown",
   "metadata": {},
   "source": [
    "Extraer los pesos máximos de cada modelo por capa:"
   ]
  },
  {
   "cell_type": "code",
   "execution_count": null,
   "metadata": {},
   "outputs": [],
   "source": [
    "w_sigmoid = []\n",
    "w_relu = []\n",
    "for i in range(len(model_sigmoid.layers)):\n",
    "    w_sigmoid.append(max(model_sigmoid.layers[i].get_weights()[1]))\n",
    "    w_relu.append(max(model_relu.layers[i].get_weights()[1]))"
   ]
  },
  {
   "cell_type": "markdown",
   "metadata": {},
   "source": [
    "Graficar los pesos de ambos modelos:"
   ]
  },
  {
   "cell_type": "code",
   "execution_count": null,
   "metadata": {},
   "outputs": [],
   "source": [
    "fig, ax = plt.subplots()\n",
    "\n",
    "index = np.arange(len(model_sigmoid.layers))\n",
    "bar_width = 0.35\n",
    "\n",
    "plt.bar(index, w_sigmoid, bar_width, label='sigmoid',\n",
    "color='b', alpha=0.4)\n",
    "plt.bar(index + bar_width, w_relu, bar_width, label='relu',\n",
    "color='r', alpha=0.4)\n",
    "plt.title('Pesos a través de la capas')\n",
    "plt.xlabel('Número de capa')\n",
    "plt.ylabel('peso máximo')\n",
    "plt.legend(loc=0)\n",
    "\n",
    "plt.xticks(index + bar_width / 2, np.arange(8))\n",
    "plt.show()"
   ]
  },
  {
   "cell_type": "markdown",
   "metadata": {},
   "source": [
    "Con las redes neuronales convolucionales, revisaremos cómo obtener más del 99% de exactitud en el conjunto de datos MNIST."
   ]
  }
 ],
 "metadata": {
  "kernelspec": {
   "display_name": "Python 3",
   "language": "python",
   "name": "python3"
  },
  "language_info": {
   "codemirror_mode": {
    "name": "ipython",
    "version": 3
   },
   "file_extension": ".py",
   "mimetype": "text/x-python",
   "name": "python",
   "nbconvert_exporter": "python",
   "pygments_lexer": "ipython3",
   "version": "3.8.3"
  }
 },
 "nbformat": 4,
 "nbformat_minor": 4
}
